{
 "cells": [
  {
   "cell_type": "markdown",
   "metadata": {},
   "source": [
    "## Tokenization\n",
    "* the process of transforming a string or document into smaller chunks\n",
    "* will do things like break out words or sentences, often separate punctuation or you can even just tokenize parts of a string like separating all hashtags in a Tweet\n",
    "* helps with simple text processing tasks like mapping part of speech, matching common words and removing unwanted tokens like common words or repeated words.\n",
    "\n",
    "### Common Library\n",
    "* `nltk`  natural language toolkit library"
   ]
  },
  {
   "cell_type": "code",
   "execution_count": 11,
   "metadata": {},
   "outputs": [
    {
     "name": "stdout",
     "output_type": "stream",
     "text": [
      "{'doors', 'Hic', \"'Course\", 'Defeat', 'just', 'scribble', 'very', 'change', 'Lead', 'wiper', 'Three', 'ceremony', 'Thpppt', 'argue', 'indeed', 'sod', 'every', 'later', 'tail', 'this', 'lies', 'forced', 'gravy', 'you', 'Britain', 'enemies', 'Between', 'illegitimate-faced', 'CAMERAMAN', 'case', 'turned', 'seek', 'bugger-folk', 'Use', 'Uuh', 'oral', 'when', 'ARMY', 'WITCH', 'anything', 'cartoon', 'formidable', 'protect', 'Then', 'clank', 'convinced', 'Please', 'stops', 'oooh', 'regulations', 'migrate', 'Most', 'routines', 'herring', 'inherent', 'color', 'tear', 'clue', 'guiding', 'two-thirds', '--', 'ruffians', 'worst', 'courage', 'us', 'OTHER', 'dappy', 'Until', 'names', 'weather', 'model', 'lobbest', 'bleeder', 'Ooh', 'eccentric', 'Does', 'chickening', 'We', 'either', 'AMAZING', 'basic', 'pass', 'ride', 'Fiends', 'pen', 'tit', 'bit', 'south', 'purest', 'flight', 'thing', \"'cause\", 'enjoying', 'rrrr', 'away', 'expensive', 'reached', 'w', 'horrendous', 'Lord', 'make', 'MIDDLE', 'lonely', 'hospitality', 'higher', 'Picture', 'Dramatically', 'out', 'banana-shaped', 'medieval', 'stayed', 'Every', 'footwork', 'woods', 'Quite', 'Or', 'Forward', 'Leaving', 'Ah', 'scenes', 'thirty-seven', 'Get', 'outdated', 'door', 'asks', 'my', 'Lie', '17', 'Black', 'wo', 'went', 'dark', '21', 'shrubber', 'Four', 'history', 'heeh', 'say', 'bed', 'says', 'Quick', 'Bring', 'commune', 'Let', 'domine', 'made', 'long', 'married', 'here', 'Yes', 'until', 'supposed', 'U', 'seems', 'aloft', 'stood', 'mad', 'workers', 'Lake', 'WINSTON', 'Huyah', 'tie', 'about', 'wherein', 'ANIMATOR', 'illustrious', 'voluntarily', 'riding', 'a', 'be', 'things', 'Wait', 'bang', 'non-migratory', 'Hee', 'Follow', 'together', 'Together', 'RIGHT', 'va.', 'foe', 'was', 'Off', 'give', 'ehh', 'Be', 'help', 'Bread', 'apart', 'wart', 'his', 'Must', 'will', 'un', 'rewr', 'hell', 'successful', 'floats', '23', 'problems', 'Mercea', \"'Til\", 'CHARACTERS', 'home', 'personally', 'sonny', 'THE', 'feast', 'private', 'dull', 'groveling', 'tiny-brained', 'None', 'Not-appearing-in-this-film', 'And', \"'s\", 'Pendragon', 'keep', 'temperate', 'Open', 'down', 'forget', 'CUSTOMER', 'stand', 'girl', \"'ve\", 'five', 'Ha', 'bats', 'Chickennn', 'all', 'packing', 'Mind', 'sword', 'warm', 'eight', 'BLACK', 'understand', 'violence', 'science', 'command', 'Nothing', 'we', \"'re\", 'Stay', 'shall', 'k-nnnnniggets', 'fire', 'nibble', 'examine', 'frontal', 'uh', 'built', 'handle', 'tired', 's', ',', 'flint', 'Aah', 'sneaking', 'sight', 'kind', 'smashed', 'splat', 'such', 'more', 'Therefore', 'Monsieur', 'Unfortunately', 'scots', 'lie', 'CRASH', 'ratios', 'Doctor', 'leap', 'guards', 'baby', 'clad', 'himself', 'consulted', 'pure', 'afoot', 'van', 'afraid', 'Joseph', 'vital', 'best', \"e'er\", 'pussy', 'dance', 'grip', 'Now', 'seen', 'use', 'Cider', 'because', 'blessing', 'Hiyya', 'Running', 'snuff', 'Erm', 'Message', 'particular', 'nice', 'song', 'ALL', 'Man', 'Anyway', 'TIM', 'Mmm', 'time-a', 'buggered', 'face', 'owns', 'na', 'bits', 'luck', 'look', 'big', 'too', 'Have', 'NI', 'O', '..', 'cheesy', 'run', 'GIRLS', 'me', 'Which', 'surprise', 'guest', 'ethereal', 'vicious', 'answer', 'side', 'Guy', 'Spring', 'them', 'between', 'velocity', 'Court', 'order', 'Pure', 'husk', \"'uuggggggh\", 'dynamite', 'Patsy', 'fallen', 'breadth', 'already', 'Where', 'ready', 'spirit', 'brain', 'although', 'sequin', 'Princess', 'Steady', 'Guards', 'sigh', 'Hoa', 'listen', 'Why', 'fight', 'Oooh', 'wound', 'happy', 'bonk', 'climes', 'dare', 'SIR', 'two', 'collective', 'much', 'daring', 'chanting', 'squeak', 'society', 'Hello', 'ARTHUR', 'warning', 'nostrils', 'Aauuugh', 'j', 'fought', 'Loimbard', 'like', 'head', 'woosh', 'stone', 'masses', 'wipers', 'Heh', 'temptation', 'become', 'example', 'score', 'wood', 'Greetings', 'MINSTREL', 'Forgive', 'hopeless', 'It', 'glass', 'Herbert', 'Enchanter', 'largest', 'commands', 'almost', 'carrying', 'Olfin', 'splash', 'Aaah', 'Thank', 'should', 'awfully', 'settles', '!', 'performance', 'Agh', 'saying', 'For', 'advancing', 'wrong', 'women', 'have', 'strange', 'roar', 'empty', 'Neee-wom', 'search', 'bird', 'bravely', 'Concorde', 'fortune', 'trusty', 'God', 'Never', 'gurgle', '.', 'handsome', \"'Morning\", 'supports', 'Ewing', 'her', 'dictating', 'Ahh', 'thank', 'met', 'jump', 'hamster', 'CRONE', '14', 'sir', 'Dingo', 'pound', 'obviously', 'sweet', 'Battle', 'True', 'HERBERT', 'raped', 'Even', 'preserving', 'nothing', 'Aaaugh', 'If', 'witch', 'Mother', '18', 'PRINCESS', 'One', 'interested', 'ye', 'sun', 'times', 'mother', 'mightiest', 'dead', 'ZOOT', 'havin', 'merger', 'thud', 'seldom', 'Aaaah', 'why', 'kings', 'sister', 'try', 'unhealthy', 'undressing', 'economic', 'autocracy', 'uhh', 'lives', 'Ask', 'auuuuuuuugh', 'Thsss', 'sawwwww', 'Those', 'DEAD', 'dear', 'name', 'cave', 'Psalms', 'terribly', 'Bad', 'being', 'ho', 'profane', 'enchanter', 'Surely', 'b', 'how', 'Bravely', 'going', 'icy', 'gouged', 'watch', 'upon', 'mooooooo', 'lying', 'Sir', '3', 'questions', 'Recently', 'stuffed', 'of', 'wind', 'Stand', 'Anarcho-syndicalism', 'Thpppppt', 'quite', 'bite', 'minstrels', 'strategy', 'Silly', 'joyful', 'fooling', 'Cherries', 'SECOND', 'yes', 'bum', 'covered', 'Peril', 'Welcome', 'Woa', 'depart', 'heard', 'so-called', 'spake', 'boil', 'were', 'and', 'off', 'disheartened', 'rocks', 'Y', 'trumpets', 'risk', 'GREEN', 'taking', 'aunties', 'Thou', 'spam', 'tea', \"'Erbert\", 'etc', 'Aaaaaaaah', 'whether', 'compared', 'Aramaic', 'curtains', 'mandate', 'sometimes', 'Packing', 'leg', 'hmm', 'ever', 'duck', 'triumphs', 'peril', 'prevent', 'Apples', 'necessary', 'earth', 'send', 'bangin', 'ferocity', 'carries', 'types-a', 'worry', 'bet', 'leads', 'fart', 'tragic', \"'First\", 'asking', 'giggle', 'utterly', 'looked', 'laughing', 'rock', 'Lucky', 'bloody', 'nervous', 'still', 'PRINCE', 'er', 'punishment', 'Too', 'Since', 'holy', 'continue', 'autonomous', 'slash', 'Aggh', 'smack', '(', 'must', 'mashed', 'headoff', 'did', 'England', 'rhymes', 'somebody', 'Alright', 'chickened', 'France', 'false', 'scared', 'unladen', 'LUCKY', 'appease', 'chastity', 'mac', 'proved', 'does', 'always', 'wedding', 'Listen', 'today', 'refuse', 'humble', 'Thppppt', 'learning', 'sure', 'distributing', 'sank', 'offensive', 'many', 'glad', 'Aaauugh', 'these', 'chops', 'kneecaps', 'relax', 'singing', 'period', 'had', 'lovely', 'come', 'mercy', 'count', 'majority', 'two-level', 'Dappy', 'Lady', 'SOLDIER', 'Try', 'valor', 'behaviour', 'DENNIS', 'stew', 'occasion', 'cope', 'avenged', 'classes', 'Chaste', 'fine', 'radio', 'able', 'SCENE', 'high-pitched', 'air-speed', 'perpetuates', 'for', 'conclusion', 'elderberries', 'particularly', 'along', 'penalty', 'hoo', 'makes', 'even', 'wounded', 'year', 'strength', 'Ohh', 'Aauuuves', 'nine', 'plain', 'major', 'Saxons', 'Christ', 'class', 'another', 'apologise', 'beds', 'Castle', 'duty', 'tap-dancing', 'business', \"'d\", 'attack', 'logically', 'Shut', 'Chapter', 'ran', 'samite', '8', 'VILLAGERS', 'ugly', 'force', 'person', 'pack', 'stupid', 'meeting', 'see', 'pause', 'Haw', 'clap', 'Tale', 'Quiet', 'thou', 'Prepare', 'gentle', 'medical', 'Hiyaah', 'high', 'farcical', 'thine', '6', 'LOVELY', 'knocked', 'excepting', 'Book', 'leave', 'Far', 'throat', 'required', 'tale', 'number', 'bless', 'This', 'assist', 'chest', 'know', 'throwing', 'an', 'donkey-bottom', 'acting', 'hang', 'may', 'back', 'work', 'binding', 'l', 'smashing', 'take', 'Ridden', 'people', 'exciting', 'dorsal', 'way', 'accent', 'warned', 'lucky', 'behold', 'Swamp', 'point', 'NARRATOR', 'safety', 'boom', 'Hiyah', 'scratch', 'drink', 'bold', 'Huy', 'escape', 'north-east', 'pulp', 'reasonable', 'OF', '1', 'diaphragm', 'aptly', 'training', 'siren', 'mud', 'killer', \"'Aauuuuugh\", 'Once', 'feathers', 'armed', 'ratified', 'window-dresser', 'ju', 'needs', 'question', 'mer', 'Order', 'dragging', 'Excuse', '#', 'couple', 'worthy', 'oui', '12', 'biscuits', 'favorite', 'once', 'horse', 'agree', 'stab', 'brought', 'Not', 'SENTRY', 'fatal', 'kneeling', 'scales', 'oo', \"'Ecky-ecky-ecky-ecky-pikang-zoop-boing-goodem-zoo-owli-zhiv\", 'verses', 'grail', 'aquatic', 'well', 'immediately', 'pestilence', 'Right', 'wings', 'woman', 'Winston', 'no', 'Over', 'hall', 'ponds', 'own', 'aside', 'p', 'Two', 'not', 'might', 'set', 'alight', 'taunt', 'bother', 'resting', 'deal', 'sharp', 'hee', 'MAN', 'only', 'small', 'purely', 'retold', 'They', 'young', 'answers', 'How', 'creeper', 'Did', 'sex', 'clack', 'day', 'threw', 'those', 'carving', 'minutes', 'FRENCH', 'watery', 'up', 'HISTORIAN', 'Oooo', 'strewn', 'Fine', 'middle', 'pissing', 'summon', 'castanets', 'Churches', 'word', 'join', 'hast', 'trouble', 'hidden', 'biters', 'maybe', 'forth', 'danger', 'full', 'pimples', 'Well', 'unclog', 'centuries', 'rather', 'bladders', 'African', 'government', 'slightly', 'who', 'which', 'jokes', 'suddenly', 'second', 'defeat', 'cruel', 'silly', 'further', 'Wood', 'Bones', 'gon', 'Badon', 'return', 'length', '20', 'general', 'wise', 'by', 'awaaaaay', \"'aaaah\", 'internal', 'aaaaaah', 'on', 'dunno', 'CROWD', 'haw', 'hear', 'from', 'N', ')', 'git', 'Supposing', 'rest', 'OLD', 'nick', 'naughty', 'nice-a', 'temptress', 'cover', 'Auuuuuuuugh', 'ha', 'single-handed', 'cadeau', 'worked', 'halves', 'GUARDS', 'approaching', 'With', 'discovers', 'Charge', 'Five', 'Thy', 'hospital', 'open', 'grail-shaped', 'Arthur', 'effect', 'Bon', 'soon', 'our', 'cereals', 'Thursday', 'Twenty-one', 'hacked', 'howl', 'outwit', 'Launcelot', 'breakfast', 'Hya', 'wounding', 'lose', 'anchovies', 'wet', 'WOMAN', 'So', 'valleys', 'got', 'Shh', 'zoosh', 'LAUNCELOT', 'son', 'vache', 'MAYNARD', 'quests', 'French', 'newt', 'dub', 'bottoms', 'castle', 'give-away', 'plover', 'shut', 'varletesses', 'Aauuggghhh', 'B', 'More', 'show', 'Like', 'idea', 'dancing', '16', 'Caerbannog', 'When', 'Tower', 'lived', 'pig', 'mile', 'returns', 'cut', 'distress', 'miss', 'arms', 'Hooray', 'suggesting', 'Antioch', 'entering', 'remain', 'ham', 'Eh', 'build', 'course', 'die', 'Explain', 'remembered', 'Hyy', 'quick', 'rope', 'would', 'nightfall', \"'ll\", 'gave', 'spanked', 'Hold', 'ROBIN', 'favor', 'Ay', 'sloths', 'real', 'first', 'telling', 'new', 'since', 'Assyria', 'arm', 'He', 'LEFT', 'court', 'bois', 'attend', 'rich', 'uuup', 'suffered', 'yeah', 'miserable', 'excuse', 'assault', 'hills', \"n't\", 'Keep', 'Ho', 'else', 'dirty', 'named', 'filth', 'follow', 'Skip', 'reads', 'Stop', 'shrubberies', 'Yay', 'bringing', 'tinder', 'Halt', 'Anybody', 'alive', 'pig-dogs', 'most', 'heads', 'Eee', 'anyway', 'hundred-and-fifty', 'hat', 'Action', 'spooky', 'your', 'lobbed', 'minute', 'raised', 'dona', 'quack', 'twang', 'electric', 'expect', 'creep', 'inferior', 'islands', 'folk', 'meant', 'round', 'carved', 'differences', 'treat', 'employed', 'entrance', 'traveller', 'cop', 'far', 'scimitar', 'done', 'fruit', 'Anthrax', 'against', 'previous', 'less', 'beyond', 'KING', 'o', 'Cut', 'taken', 'trough', 'forward', 'parts', 'Ector', 'think', 'wave', 'life', 'Yeah', \"'T\", 'yet', 'grin', 'Honestly', 'Thppt', 'PARTY', 'Peng', 'bones', 'HEAD', 'Make', 'sign', 'Beast', 'twin', 'been', 'pram', 'Look', 'Quickly', 'MONKS', 'fifty', 'kills', 'depressing', 'Ives', 'ninepence', 'task', 'Midget', 'fly', 'sample', 'where', 'Angnor', 'deeds', 'creature', 'Found', 'wield', 'called', 'wishes', 'amazes', 'gone', 'yellow', 'same', 'Help', 'DINGO', \"d'you\", 'executive', 'bravest', 'dress', 'honored', 'making', 'counting', 'repressing', 'broken', 'ENCHANTER', 'FATHER', 'found', 'perilous', 'Autumn', 'Nador', 'e', 'its', 'said', 'entered', 'Britons', 'has', 'knight', 'rescue', 'lost', 'started', 'wayy', 'frighten', 'busy', 'certain', 'told', 'King', 'chance', 'blood', 'Oooohoohohooo', 'Oh', 'oh', 'king', 'outrageous', 'words', 'sovereign', 'keeper', 'BORS', 'bridgekeeper', 'kick', 'marrying', 'animal', 'somewhere', 'laden', 'lady', 'ignore', 'want', 'Clark', 'master', 'Farewell', 'anywhere', 'bosom', 'Blue', 'removed', '9', 'finest', 'discovered', 'talk', 'bicker', 'Sorry', 'i', 'sing', 'purpose', 'sell', 'house', 'winter', 'clllank', 'pray', 'confuse', 'burn', 'zone', 'Chicken', 'automatically', 'Winter', 'Bedevere', 'Prince', 'arrows', 'suppose', 'large', 'brave', 'ca', 'shelter', 'art', 'Brother', 'matter', 'awaaay', 'stay', 'nasty', '11', 'coconuts', 'MIDGET', 'CRAPPER', \"'is\", 'sixteen', 'animator', 'elbows', 'near', 'dying', 'ROGER', 'north', 'Table', 'witness', '10', 'beside', 'some', 'outdoors', 'approacheth', 'path', 'seem', 'room', 'doctors', 'without', \"'Here\", 'delirious', 'behind', 'lunged', 'thanks', 'GALAHAD', 'ours', 'properly', 'Firstly', 'time', 'crossed', 'Schools', 'sponge', 'can', 'Gorge', 'foot', 'sworn', 'snore', 'My', 'Quoi', 'noise', 'decision', 'shows', 'kingdom', 'Lancelot', 'whop', \"'ni\", 'Camaaaaaargue', 'living', 'dad', 'Here', 'tiny', 'gra', 'But', 'anarcho-syndicalist', 'Shall', 'Perhaps', 'table', 'Jesus', 'Who', 'completely', 'lads', 'ill.', 'derives', 'She', 'having', 'carried', 'biggest', 'passing', 'ere', 'repressed', 'Come', \"'anging\", 'but', 'capital', '?', 'visually', 'everyone', 'thonk', 'carve', 'lot', 'Nine', 'tackle', 'mean', 'Hah', 'man', 'town', 'leaps', 'awhile', 'arrange', 'Idiom', 'while', 'wide', 'bring', 'tracts', '[', 'in', 'music', 'spoken', 'guided', 'Grail', 'imprisoned', 'quest', 'marry', 'Crapper', '4', 'ones', 'Attila', 'happens', 'Ni', 'n', 'individually', ':', 'felt', 'father', 'legs', 'mystic', 'auntie', 'liver', 'tough', 'GUESTS', 'legendary', 'Umm', 'ask', 'underwear', 'eet', 'types', 'reared', 'swords', 'sniff', 'Bridge', 'valiant', 'request', 'self-perpetuating', \"'round\", 'Is', 'brunettes', 'Torment', 'certainly', 'Hoo', ']', 'As', 'sent', 'anyone', 'y', 'knock', 'scrape', 'frozen', 'supreme', \"'Ere\", 'door-opening', 'food', 'ungallant', 'suit', 'main', 'Augh', 'friend', 'the-not-quite-so-brave-as-Sir-Lancelot', 'suspenseful', 'setting', 'limbs', 'king-a', 'averting', 'rejoicing', 'call', 'Allo', 'wan', 'Holy', \"'sorry\", 'sheep', 'at', 'held', 'pond', 'they', 'walking', 'am', 'Mud', 'problem', 'Put', 'accomplished', 'That', 'test', 'proceed', 'killed', 'European', 'PIGLET', 'impeccable', 'Really', 'Say', 'heroic', 'whoever', 'good', 'one', 'Gawain', 'get', 'to', 'whispering', 'burst', 'Hang', 'Armaments', 'haste', 'unarmed', 'By', 'through', 'ptoo', 'Beyond', 'guarded', 'VILLAGER', '22', 'system', 'body', 'kill', 'STUNNER', 'GOD', 'ai', 'rodent', 'The', 'Amen', 'gallantly', \"'til\", 'looking', 'beautiful', 'evil', 'Robin', 'beat', 'after', 'officer', 'bastards', 'Wayy', 'HEADS', 'using', \"'shrubberies\", 'sad', 'actually', 'Hm', 'wedlock', 'Hmm', 'whose', 'KNIGHTS', 'Eternal', 'witches', 'bastard', 'DIRECTOR', 'mayhem', 'alarm', 'weighs', 'No', 'May', 'progress', 'boys', 'saved', 'fold', 'week', 'travellers', 'See', 'Splendid', 'adversary', 'streak', 'um', 'dungeon', 'if', 'pweeng', 'trade', 'running', 'bows', 'sacrifice', 'grips', 'suffice', 'BRIDGEKEEPER', 'cast', 'whinny', 'power', 'hello', 'conclusions', 'An', 'headed', 'dogma', 'coconut', 'Yeaah', 'idiom', 'kicked', 'rabbit', 'Just', 'Uh', 'something', 'draw', 'weight', 'shalt', 'PRISONER', 'Ages', 'Bedwere', 'bleed', 'welcome', 'cry', 'line', 'let', 'creak', 'k-nnniggets', 'Everything', 'cost', 'strand', 'never', 'Brave', 'chorus', 'remember', 'Divine', 'mooo', 'gay', 'Knight', 'Good', 'sons', 'shrubbery', 'bint', 'great', 'Ow', 'Of', 'eisrequiem', 'impersonate', 'wonderful', 'lapin', 'awaits', 'emperor', 'Your', 'teeth', 'Summer', 'eats', 'bathing', 'Yapping', 'dressed', 'old', 'buggering', 'enough', 'rode', 'Aaaaaaaaah', 'servant', 'Yeaaah', 'late', 'Grenade', 'ladies', 'Nu', 'wants', 'lair', 'string', 'wicked', 'Supreme', 'each', 'accompanied', 'eyes', 'bridges', 'writing', 'scholar', 'foul', 'In', 'next', 'Bravest', 'blondes', 'he', 'pansy', 'death', 'Actually', 'soft', 'place', 'looney', 'You', 'Nay', 'now', 'knights', 'Looks', 'keepers', 'WIFE', 'feet', 'Chop', 'Hand', 'CARTOON', 'four', 'BROTHER', 'Arimathea', 'mate', 'fled', 'little', 'changed', 'shimmering', 'doubt', 'recover', 'Throw', 'de', 'fwump', 'Today', 'Exactly', 'dine', 'mortally', 'Saint', 'stress', 'clunk', 'Ayy', 'Uther', 'Clear', 'pointy', 'tree', 'easily', 'armor', 'as', 'separate', 'formed', 'sacred', 'under', 'vary', 'influential', 'basis', 'Father', 'strangers', 'All', 'Hill', 'mumble', 'clear', 'act', 'carry', 'him', ';', 'absolutely', 'Riiight', 'their', 'exploiting', 'vote', 'scene', 'waste', 'orangutans', 'bad', 'Our', 'turns', 'aaugh', 'knew', 'Said', 'Yup', 'end', 'coming', 'Behold', 'jam', 'committed', 'getting', 'inside', 'There', 'land', 'Shrubberies', '2', 'nor', 'Roger', 'Speak', 'swallow', 'put', 'ordinary', 'Iiiives', 'could', 'Almighty', 'with', 'forest', 'VOICE', 'given', 'laurels', 'thought', 'known', 'grovel', 'chord', 'there', 'Gallahad', 'saw', 'Do', 'swallows', 'silence', '...', 'or', 'longer', 'What', 'around', 'finds', 'worse', 'outside', 'also', \"'Ni\", 'Tim', 'Hurry', 'Whoa', 'sense', 'tops', 'His', 'magne', 'requiem', 'than', 'Tall', 'last', 'c', 'heh', 'seemed', 'Ulk', 'demand', 'CART-MASTER', 'warmer', '7', 'identical', 'simple', 'beacon', 'guard', 'thump', 'carp', 'Pin', 'out-clever', 'right', 'looks', \"'old\", 'present', 'fourth', 'Piglet', 'ooh', 'feel', 'eis', 'twenty', 'lord', 'other', 'Zoot', 'cart', 'Very', 'Death', 'crying', 'spanking', 'thwonk', 'g', 'relics', 'legally', 'nose', 'PERSON', 'martin', 'knows', 'enter', 'RANDOM', 'W', 'cross', 'special', 'bid', 'Knights', 'tell', 'chosen', 'everything', 'Huh', 'sire', 'strongest', 'flesh', 'burned', 'into', 'blow', 'signifying', 'Aagh', 'Are', 'Meanwhile', 'daft', 'dramatic', 'intermission', 'knees-bent', 'breath', 'praised', 'bride', 'Ninepence', 'Hallo', 'feint', 'Aaaaaah', 'ounce', 'police', 'quarrel', \"'Oooooooh\", 'water', 'ni', 'she', 'defeator', 'doing', 'Remove', 'manner', 'again', 'goes', 'moment', '19', 'English', 'Practice', 'object', 'sink', 'what', 'speak', 'daughter', 'Bristol', 'persons', 'Hey', 'forty-three', 'nearly', 'baaaa', 'snows', 'pull', 'it', 'do', 'To', \"C'est\", 'Excalibur', 'Back', 'freedom', 'go', 'liar', 'nobody', 'CONCORDE', 'Victory', 'Consult', \"'forgive\", 'scarper', 'affairs', 'Dragon', \"'S\", 'Build', 'Great', 'Iesu', 'comin', 'smelt', 'GUARD', 'dressing', 'unsingable', 'soiled', 'easy', 'walk', 'terrible', 'passed', 'On', 'harmless', \"'Dennis\", 'guests', 'understanding', 'push', 'mangy', \"'it\", 'buy', 'that', 'Frank', 'any', 'need', 'tart', 'Tell', 'mine', 'shit', 'used', 'Aaauggh', 'Uugh', 'SUN', 'GUEST', 'Bloody', '24', 'please', 'CHARACTER', 'fellows', 'Un', 'band', 'INSPECTOR', 'decided', 'Mine', 'Rather', 'tropical', 'retreat', 'least', 'k-niggets', 'wooden', 'totally', 'war', 'Shrubber', 'plan', 'eat', 'Silence', 'yel', 'allowed', 'Himself', 'Am', \"'aaggggh\", 'Gable', 'Pull', 'mistake', 'taunting', 'move', \"'To\", 'yours', 'dangerous', 'A', 'thy', 'bitching', 'yourself', 'unplugged', 'considerable', 'snap', 'birds', 'sort', 'working', 'horn', 'bad-tempered', 'mangled', 'so', 'haaa', 'moistened', 'shivering', 'whom', 'nearer', 'Um', 'design', 'charged', 'third', 'Uhh', 'split', 'u', 'Round', 'someone', 'three', \"'\", 'bed-wetting', 'Burn', 'angels', 'is', 'Thee', 'left', 'fair', 'Old', 'bridge', 'country', 'donaeis', 'language', 'bi-weekly', 'dictatorship', 'bells', 'Seek', 'bowels', 'Will', 'mayest', 'explain', 'worried', 'Cornwall', 'lambs', 'twong', 'towards', 'better', 'gained', 'SHRUBBER', 'brush', 'peasant', 'Maynard', 'Walk', 'Iiiiives', 'live', 'starling', 'Robinson', \"'Man\", 'drilllll', 'I', 'hiyaah', 'PATSY', 'Waa', 'uuggggggh', 'twenty-four', 'At', 'Umhm', 'yelling', 'ridden', 'night', 'died', 'liege', 'became', 'then', 'therefore', 'bottom', 'hand', 'cough', 'scott', 'closest', 'glory', 'chu', 'bunny', 'ways', 'clop', 'Dennis', 'straight', 'stop', '13', 'find', 'badger', 'flights', 'Alice', '15', 'Providence', 'union', 'vouchsafed', 'Aaaaugh', 'are', 'invincible', \"'m\", 'Dis-mount', 'crash', 'resumes', 'imperialist', 'runes', 'helpful', 'opera', 'eh', 'quiet', 'pay', 'men', \"'em\", 'presence', 'stretched', 'tonight', 'lad', 'KNIGHT', 'crone', 'maintain', 'testicles', 'Pie', 'Heee', 'heart', 'Galahad', 'Would', 'Aaagh', 'BRIDE', 'social', 'BEDEVERE', 'direction', 'bond', 'Other', 'sorry', 'really', 'earthquakes', 'vain', 'Fetchez', 'huge', 'Camelot', 'weapon', 'note', 'pounds', 'throughout', 'fell', 'la', 'the', 'spank', 'Go', 'wait', 'blanket', 'Away', 'OFFICER', 'swamp', 'grenade', 'clang', 'Oui', 'Bors', 'over', 'nineteen-and-a-half', '5', 'Run', 'Could', 'took', 'Rheged', 'keen', 'vests', 'indefatigable'}\n"
     ]
    }
   ],
   "source": [
    "## tokenize both words and sentences of the first scene of Monty Python's Holy Grail.\n",
    "# Import necessary modules\n",
    "from nltk.tokenize import sent_tokenize\n",
    "from nltk.tokenize import word_tokenize\n",
    "import re\n",
    "\n",
    "file = open(\"../datasets/monty-python-scene-1.txt\", \"r\")\n",
    "scene_one = file.read()\n",
    "file.close()\n",
    "\n",
    "# Split scene_one into sentences: sentences\n",
    "sentences = sent_tokenize(scene_one)\n",
    "\n",
    "# Use word_tokenize to tokenize the fourth sentence: tokenized_sent\n",
    "tokenized_sent = word_tokenize(sentences[3])\n",
    "\n",
    "# Make a set of unique tokens in the entire scene: unique_tokens\n",
    "unique_tokens = set(word_tokenize(scene_one))\n",
    "\n",
    "# Print the unique tokens result\n",
    "print(unique_tokens)\n"
   ]
  },
  {
   "cell_type": "code",
   "execution_count": 14,
   "metadata": {},
   "outputs": [
    {
     "name": "stdout",
     "output_type": "stream",
     "text": [
      "580 588\n"
     ]
    }
   ],
   "source": [
    "# Search for the first occurrence of \"coconuts\" in scene_one: match\n",
    "match = re.search(\"coconuts\", scene_one)\n",
    "\n",
    "# Print the start and end indexes of match\n",
    "print(match.start(), match.end())"
   ]
  },
  {
   "cell_type": "code",
   "execution_count": 15,
   "metadata": {},
   "outputs": [
    {
     "name": "stdout",
     "output_type": "stream",
     "text": [
      "<re.Match object; span=(9, 32), match='[wind] [clop clop clop]'>\n"
     ]
    }
   ],
   "source": [
    "# Write a regular expression to search for anything in square brackets: pattern1\n",
    "pattern1 = r\"\\[.*\\]\"\n",
    "\n",
    "# Use re.search to find the first text in square brackets\n",
    "print(re.search(pattern1, scene_one))"
   ]
  },
  {
   "cell_type": "code",
   "execution_count": 16,
   "metadata": {},
   "outputs": [
    {
     "name": "stdout",
     "output_type": "stream",
     "text": [
      "<re.Match object; span=(0, 7), match='ARTHUR:'>\n"
     ]
    }
   ],
   "source": [
    "# Find the script notation at the beginning of the fourth sentence and print it\n",
    "pattern2 = r\"[\\w\\s]+:\"\n",
    "print(re.match(pattern2, sentences[3]))"
   ]
  }
 ],
 "metadata": {
  "kernelspec": {
   "display_name": "Python 3",
   "language": "python",
   "name": "python3"
  },
  "language_info": {
   "codemirror_mode": {
    "name": "ipython",
    "version": 3
   },
   "file_extension": ".py",
   "mimetype": "text/x-python",
   "name": "python",
   "nbconvert_exporter": "python",
   "pygments_lexer": "ipython3",
   "version": "3.9.6"
  }
 },
 "nbformat": 4,
 "nbformat_minor": 2
}
