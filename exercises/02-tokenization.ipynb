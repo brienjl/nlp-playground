{
 "cells": [
  {
   "cell_type": "markdown",
   "metadata": {},
   "source": [
    "## Tokenization\n",
    "* the process of transforming a string or document into smaller chunks\n",
    "* will do things like break out words or sentences, often separate punctuation or you can even just tokenize parts of a string like separating all hashtags in a Tweet\n",
    "* helps with simple text processing tasks like mapping part of speech, matching common words and removing unwanted tokens like common words or repeated words.\n",
    "\n",
    "### Common Library\n",
    "* `nltk`  natural language toolkit library"
   ]
  },
  {
   "cell_type": "code",
   "execution_count": 1,
   "metadata": {},
   "outputs": [
    {
     "name": "stdout",
     "output_type": "stream",
     "text": [
      "{'Old', 'dogma', 'exciting', 'training', 'w', 'ladies', 'chorus', 'scene', 'Anybody', 'enemies', 'Mind', 'legally', 'danger', 'bless', 'Tall', 'wipers', 'Dramatically', 'join', 'shelter', 'chance', 'Death', 'bois', 'Why', 'plover', 'throat', 'Quickly', 'giggle', 'bi-weekly', 'give-away', 'made', 'yel', 'Cherries', 'earthquakes', 'bangin', 'hast', 'some', 'unsingable', 'bridgekeeper', 'whinny', 'scratch', 'name', 'Make', \"'To\", 'medieval', 'plan', 'siren', 'na', 'Never', 'CHARACTER', 'totally', 'sex', 'SIR', 'kicked', 'mistake', 'through', 'their', 'brunettes', 'eh', 'icy', 'mean', 'Bedwere', 'did', 'Torment', 'er', 'quest', 'science', 'considerable', 'distress', 'French', 'Maynard', 'course', 'When', 'Heh', 'ran', 'Ector', 'clack', 'tough', 'land', 'stab', 'aloft', 'W', 'really', 'Winter', 'lapin', 'Ha', 'show', 'progress', 'Holy', 'worst', 'SUN', 'With', 'inferior', 'Yeaah', 'dorsal', 'let', 'big', 'ways', 'snuff', 'husk', 'counting', 'hacked', 'house', 'aside', 'headoff', 'nervous', 'Anthrax', 'Thank', 'rrrr', 'thud', 'Uugh', 'sense', 'anyway', 'mer', 'Off', 'elderberries', 'dine', 'Ewing', 'whom', 'See', 'To', 'your', 'must', 'shit', 'baby', 'lives', 'way', 'terribly', 'fortune', \"'S\", 'MINSTREL', 'sorry', 'ni', 'hmm', 'hall', 'bottom', 'Battle', 'moistened', 'tropical', 'dappy', 'entrance', 'between', 'Assyria', \"'Morning\", 'gallantly', 'Looks', 'the', 'even', 'Book', 'straight', 'shall', 'favorite', 'Running', 'fooling', 'broken', 'new', 'Yup', 'At', 'die', 'ratified', 'brush', 'Bedevere', 'Shrubber', 'run', 'completely', 'gra', 'Am', 'Hold', 'herring', 'right', 'feet', 'split', 'brain', 'Like', '14', 'biggest', 'grail-shaped', 'oooh', 'Bloody', 'pointy', 'officer', '..', 'HEAD', 'yeah', 'attack', 'oh', 'Knights', 'riding', 'buggered', 'her', 'Idiom', 'spirit', 'humble', 'differences', '4', 'Chickennn', 'vary', 'mile', 'hang', 'OF', 'ARTHUR', 'Halt', 'from', 'open', 'zone', 'setting', 'armor', 'last', 'Arthur', 'Hiyya', 'Five', 'sir', 'single-handed', 'wait', 'guards', 'Silly', 'ere', 'could', 'body', 'Anyway', 'adversary', 'tonight', 'o', 'bed', 'sometimes', 'handle', 'easy', 'profane', 'everyone', 'servant', 'chord', 'hamster', 'something', 'recover', 'saw', 'Wait', 'boom', 'GOD', 'master', 'social', 'score', 'dictatorship', 'sink', 'tell', 'BORS', \"'aaggggh\", 'May', 'far', 'averting', '10', 'GUARD', 'examine', 'laughing', 'maybe', 'relax', \"'Ni\", 'separate', 'what', 'Chicken', '22', 'order', 'Picture', \"'it\", 'dad', 'runes', 'sod', 'OLD', 'mac', 'nineteen-and-a-half', 'happens', 'Fine', 'next', 'heeh', 'Speak', 'Grenade', 'bastards', 'Angnor', 'dancing', 'i', 'demand', 'fruit', 'presence', 'least', 'perilous', 'scimitar', 'period', 'every', 'Lucky', 'is', 'splash', 'islands', 'capital', 'bitching', 'Aaauggh', 'women', 'Your', 'held', 'apologise', 'music', 'testicles', 'look', 'need', 'Too', 'Tale', 'outdated', 'accompanied', 'For', 'suffered', 'felt', 'daft', 'underwear', 'keen', 'fold', 'duck', 'not', 'tail', 'got', 'Hm', 'miss', 'BEDEVERE', 'seemed', 'man', 'knight', 'snore', 'woosh', 'Pie', 'If', 'Oooohoohohooo', 'carried', 'door', \"'is\", 'working', 'Gawain', 'A', 'appease', 'cough', 'ethereal', 'knows', 'bats', 'ca', 'pond', 'performance', 'gentle', 'mooooooo', 'towards', 'cost', 'ye', 'Open', 'Lie', 'SHRUBBER', 'trumpets', '7', 'killed', 'been', 'set', \"'Dennis\", 'because', 'amazes', 'Ay', 'squeak', 'already', 'Hooray', 'scots', 'MAN', 'carving', 'eight', 'nostrils', 'its', 'You', 'sons', 'un', 'rock', 'seem', 'either', 'thine', 'limbs', 'Not-appearing-in-this-film', 'Eternal', 'still', 'tart', 'Caerbannog', '!', 'known', 'purest', \"'uuggggggh\", 'pram', 'bugger-folk', 'sacrifice', 'reasonable', 'stone', 'VILLAGERS', 'He', 'also', 'sure', 'slightly', 'wedding', 'matter', 'tale', 'said', 'auuuuuuuugh', 'ho', 'DEAD', 'NARRATOR', 'supports', 'covered', 'Augh', 'enter', 'MAYNARD', 'VILLAGER', 'feint', 'burned', 'temperate', 'ENCHANTER', 'jam', 'which', 'Man', 'Rather', 'pweeng', 'tea', 'dirty', 'yourself', 'immediately', 'taunt', 'b', 'fled', 'rodent', 'Alice', 'shrubberies', \"'ve\", 'this', 'drilllll', 'LEFT', 'merger', 'scott', 'havin', 'PATSY', 'committed', '9', 'rabbit', 'door-opening', 'ounce', 'tops', \"'em\", 'gon', 'there', 'sad', 'lying', 'request', 'pack', 'binding', 'Consult', 'system', 'Have', 'warning', 'chickened', 'afraid', 'Camelot', 'manner', 'electric', 'warm', 'van', ':', 'chickening', 'Gable', 'g', 'it', \"'round\", 'carries', 'two-level', 'met', 'vicious', 'over', 'Ridden', 'repressing', 'Please', 'seek', '11', 'business', 'yelling', 'please', 'Back', 'Aauuggghhh', 'kneeling', 'remember', 'that', 'deal', 'will', 'disheartened', 'and', 'Help', 'about', 'use', 'town', 'looked', 'general', 'One', '13', 'Do', 'forest', 'logically', 'ZOOT', 'Prince', 'entered', 'continue', 'yellow', 'sort', 'Burn', 'yours', 'repressed', 'act', 'invincible', 'well', 'Actually', 'acting', 'Iiiiives', 'Beast', 'WIFE', 'command', 'face', 'foe', 'any', 'tear', 'sniff', 'Tower', 'another', 'take', 'do', 'present', 'Dappy', 'valor', 'change', 'decided', 'twang', 'problems', 'further', 'good', 'kneecaps', 'three', 'illegitimate-faced', 'live', 'Ohh', 'Walk', 'time-a', 'non-migratory', 'Yeah', 'finest', 'indefatigable', 'ferocity', 'Guards', 'obviously', 'Pendragon', 'path', 'commune', 'Clark', 'Ah', 'police', 'Umm', 'Victory', '16', 'Eh', 'chastity', 'Ahh', 'u', 'Aaaaaaaaah', 'Psalms', 'hundred-and-fifty', 'draw', 'spanked', '1', 'Quoi', 'great', 'witch', 'ruffians', 'Is', 'particularly', 'nasty', 'Aggh', 'resting', 'k-nnnnniggets', 'HISTORIAN', ']', 'bond', 'la', 'leg', \"'re\", 'curtains', 'Chaste', 'effect', 'CHARACTERS', 'grips', 'saved', 'requiem', 'distributing', 'stupid', 'who', 'supreme', 'only', 'string', 'send', 'Meanwhile', 'freedom', 'walk', 'coming', 'am', 'can', 'carry', 'Look', 'Allo', 'pig-dogs', 'wave', 'seen', 'strongest', 'tired', 'MONKS', 'Oooo', 'breakfast', 'sneaking', 'as', 'vache', 'coconut', 'dance', 'luck', 'ai', 'ROBIN', 'blow', 'Ninepence', 'worthy', \"'Oooooooh\", 'Grail', 'window-dresser', 'Clear', 'pussy', 'Found', 'l', 'wo', 'creature', 'Bridge', 'living', 'went', 'together', 'The', 'Father', 'Enchanter', 'elbows', 'bleeder', 'hat', 'wan', 'closest', 'hidden', 'Aaaah', 'mystic', 'make', 'Aaaaugh', 'smack', 'KING', 'sloths', 'Brother', 'asking', 'smelt', 'pounds', 'day', 'bells', 'yet', 'seems', 'things', 'ask', 'kill', 'WITCH', 'Fetchez', 'Must', '24', 'arrows', ')', 'bravest', 'bride', 'Far', 'Armaments', 'tree', 'Listen', 'stood', 'k-nnniggets', 'Brave', 'voluntarily', 'Other', 'Together', 'while', 'O', 'sonny', 'bad', 'Supposing', 'waste', 'liver', 'Follow', 'European', 'fallen', 'think', \"'anging\", 'people', 'doctors', 'ordinary', 'or', 'dressed', 'Or', 'Stay', 'INSPECTOR', 'mud', 'ugly', 'guard', 'Surely', 'swallows', 'deeds', 'Perhaps', 'formed', 'Autumn', 'blanket', 'started', 'threw', 'earth', 'small', 'swords', 'Ages', 'ready', 'travellers', 'Crapper', 'Great', 'centuries', 'Uuh', 'TIM', 'DENNIS', 'Mother', 'basis', 'angels', 'supposed', 'CART-MASTER', 'Auuuuuuuugh', 'duty', 'Riiight', 'praised', 'Lead', 'Between', 'society', 'wooden', 'wiper', 'ham', 'certain', 'much', 'More', 'vests', 'ARMY', 'Pin', 'nick', 'Greetings', 'punishment', 'fatal', 'Oh', 'boil', 'speak', 'cart', 'evil', 'Aah', 'thy', 'minute', 'leap', 'king-a', 'Three', 'uhh', 'Hand', 'young', 'names', 'retold', 'needs', 'defeat', 'changed', 'entering', 'Nine', 'Hang', 'fire', 'Round', 'autonomous', 'beds', 'Lancelot', 'on', 'smashing', 'depressing', 'surprise', 'Practice', 'OFFICER', 'LUCKY', \"'forgive\", 'witches', 'illustrious', 'packing', 'Pure', 'particular', 'PIGLET', ',', 'words', 'strength', 'Bread', 'color', 'suffice', 'Stand', 'inherent', \"'First\", 'cartoon', 'MIDDLE', 'PRISONER', 'lost', 'making', 'called', 'spank', 'PRINCE', 'late', 'ride', 'Message', 'Charge', 'STUNNER', 'mooo', 'twenty-four', 'thing', 'Quiet', 'Did', 'bloody', 'Away', 'without', 'tracts', 'animal', 'wide', 'Run', 'cut', 'trusty', 'sixteen', 'Thursday', 'week', \"'Ere\", 'weighs', 'pimples', 'Peng', 'assault', 'minutes', 'awaaaaay', 'jokes', 'Almighty', 'out-clever', 'throughout', 'wayy', 'clue', 'medical', 'father', 'south', 'awfully', 'Yay', 'Ow', 'Here', 'had', '?', 'successful', 'weapon', 'attend', 'foot', 'uuup', 'retreat', 'somebody', 'model', 'auntie', 'baaaa', 'Oui', 'masses', 'conclusions', 'afoot', 'watery', 'splat', 'later', 'reached', 'bunny', 'Churches', 'N', 'Right', 'eats', 'never', 'answers', 'agree', 'spanking', 'home', 'Say', 'thonk', 'brave', 'high-pitched', 'scared', 'roar', 'long', 'miserable', 'knocked', 'thought', 'streak', 'Stop', 'peril', 'GUARDS', 'Haw', 'sank', 'snows', 'Umhm', 'dunno', 'Thsss', 'His', 'boys', 'case', 'Uther', 'Whoa', 'hopeless', 'away', 'ha', 'radio', \"'T\", 'fifty', 'questions', 'So', 'like', 'k-niggets', 'tap-dancing', 'visually', 'quiet', 'hills', 'lived', 'identical', 'throwing', 'leads', 'Swamp', 'nearly', 'Dis-mount', 'when', 'middle', 'LAUNCELOT', 'favor', 'mangy', 'risk', 'Thppt', 'flight', 'pestilence', 'OTHER', 'follow', 'opera', 'Winston', 'Prepare', 'KNIGHT', 'Neee-wom', 'doing', 'Seek', 'helpful', 'bosom', 'rejoicing', 'Hallo', 'many', 'swamp', 'feathers', 'Antioch', 'smashed', 'beacon', 'certainly', 'sigh', 'Aaagh', 'wounded', 'majority', '3', 'tragic', 'Shall', 'cruel', 'Hoo', 'more', 'violence', 'There', 'samite', 'Thee', 'gave', 'chanting', 'bed-wetting', 'Now', 'ratios', 'so-called', 'head', 'turns', 'unladen', 'triumphs', 'Cider', 'whose', 'wood', 'Use', '(', 'eat', 'keep', 'scarper', 'burst', 'idea', 'SOLDIER', 'trough', 'number', 'advancing', 'warmer', 'band', 'large', 'emperor', 'parts', 'move', 'nearer', 'Gorge', 'fellows', 'pansy', 'donkey-bottom', 'quarrel', 'heart', 'busy', 'mayest', 'BRIDGEKEEPER', 'How', 'dare', 'pause', 'person', \"'Til\", 'lobbest', 'king', 'alarm', 'And', 'creak', 'diaphragm', 'scenes', 'hand', 'high', 'cover', 'birds', 'bother', 'question', 'longer', 'behold', 'Hello', 'signifying', 'being', 'then', \"'shrubberies\", 'keeper', 'just', 'push', 'strange', 'out', 'delirious', 'idiom', 'self-perpetuating', 'Those', 'sharp', 'stretched', 'valiant', 'Lady', 'talk', 'example', 'given', 'seldom', 'Firstly', 'vouchsafed', 'nothing', 'rescue', 'velocity', 'Eee', 'rode', 'guests', 'FATHER', 'c', 'GUESTS', 'fly', 'says', 'Britons', 'pound', 'carve', 'relics', \"e'er\", 'imprisoned', 'easily', 'since', 'autocracy', 'largest', 'NI', 'Could', 'Ask', 'kingdom', 'Iiiives', 'own', 'RANDOM', 'little', 'drink', 'rope', 'have', 'those', 'Yapping', 'does', 'clllank', 'Hee', 'Skip', 'legendary', 'give', 'full', 'apart', 'Aagh', 'real', 'dragging', 'Quick', '2', 'ones', 'Everything', 'THE', 'return', 'Amen', 'air-speed', 'purely', 'crash', 'persons', 'Thppppt', 'our', 'treat', 'Huy', 'Princess', 'Camaaaaaargue', 'feast', 'groveling', 'Hya', 'Piglet', 'explain', 'court', 'spooky', 'CRAPPER', 'Beyond', 'than', 'y', 'filth', 'ninepence', 'lambs', 'preserving', 'personally', 'mashed', 'witness', 'suit', 'imperialist', 'fair', 'awhile', 'eyes', 'stress', 'wind', 'place', 'come', 'Midget', 'dying', 'woods', 'armed', 'crone', 'empty', 'you', '20', 'charged', 'bite', 'bonk', 'rhymes', 'safety', 'government', 'Erm', 'anything', 'penalty', 'clad', 'mad', 'they', 'chest', 'war', 'awaits', 'unarmed', 'looking', 'resumes', 'Welcome', 'discovered', 'count', 'length', 'forced', 'types-a', 'along', 'mortally', 'fwump', 'hospitality', 'son', 'va.', 'summon', 'all', 'p', 'Dennis', 'arrange', 'climes', 'writing', 'Dragon', 'Bad', 'necessary', 'reared', 'j', 'Leaving', 'weight', 'clear', 'passed', 'African', 'Concorde', 'Aaaaaaaah', 'stop', 'become', 'B', 'table', 'quack', 'donaeis', 'vain', 'clunk', 'shivering', 'outwit', 'Hmm', 'Aaaaaah', 'us', 'understanding', 'bad-tempered', 'clap', 'strewn', 'shimmering', 'fart', 'two', 'oo', 'leaps', 'Un', 'protect', 'Roger', 'suddenly', 'north-east', 'holy', 'under', 'object', 'sell', 'Himself', 'actually', \"'aaaah\", 'carved', 'depart', \"'Course\", 'union', 'RIGHT', 'mightiest', 'Ho', 'strangers', 'glass', 'Bravest', 'Ayy', 'trouble', 'best', '19', 'other', 'bid', 'stew', 'Recently', 'Woa', 'undressing', 'etc', 'economic', 'Once', 'dictating', 'pull', 'test', 'Every', 'None', 'ridden', 'Shh', 'Most', 'Ooh', 'wet', 'dub', 'nightfall', 'Who', 'beat', 'newt', 'forget', 'Alright', 'Hic', 'dress', 'castanets', 'maintain', 'enough', 'kick', 'pay', 'formidable', 'Excalibur', \"'Erbert\", 'bridge', 'Galahad', 'Nador', 'Unfortunately', 'vote', 'rich', 'against', 'hello', 'aquatic', 'shows', 'assist', 'argue', 'God', 'oui', 'bit', 'comin', 'We', 'fourth', 'today', 'cast', 'we', 'Very', 'I', 'eisrequiem', 'Yeaaah', 'after', 'scrape', 'stuffed', 'proceed', 'Build', 'grip', 'fight', 'consulted', 'ungallant', 'Forgive', 'MIDGET', 'Which', 'buy', 'whoever', 'each', 'lovely', 'badger', 'same', 'Hill', 'Frank', 'flesh', \"'s\", 'Shut', 'accent', 'answer', 'Thy', 'Wood', 'flint', 'wants', 'Sorry', 'me', 'Get', 'ever', 'Herbert', 'CAMERAMAN', 'breadth', 'snap', 'previous', 'required', \"'Ecky-ecky-ecky-ecky-pikang-zoop-boing-goodem-zoo-owli-zhiv\", 'hear', 'bladders', 'spam', 'lord', 'My', 'Robinson', 'private', 'WINSTON', 'bottoms', 'escape', 'guided', \"n't\", 'help', 'Zoot', 'impersonate', 'almost', 'perpetuates', 'wedlock', 'kings', 'buggering', 'find', 'bravely', 'Action', 'Therefore', 'inside', 'proved', 'Saint', 'Today', 'were', 'at', 'Hurry', 'alive', 'Divine', 'worked', 'classes', 'he', 'taking', 'gurgle', 'outrageous', 'headed', 'warned', 'sight', 'temptation', 'remain', 'side', 'sequin', 'Britain', 'git', 'halves', 'thwonk', 'two-thirds', 'Guy', 'Saxons', 'CRASH', 'Bon', 'learning', 'defeator', 'mandate', 'folk', '12', 'times', 'sun', 'courage', 'No', 'horse', 'wound', 'ju', 'Steady', 'gay', 'Hah', 'silence', 'mother', 'peasant', 'breath', 'everything', 'country', 'mate', 'unhealthy', 'nibble', 'bint', 'ceremony', 'Ni', 'GREEN', 'purpose', 'knew', 'LOVELY', 'joyful', 'plain', 'Doctor', 'laden', 'although', 'with', 'GALAHAD', 'owns', 'Where', 'Mine', 'prevent', 'frontal', 'Our', 'Splendid', 'Would', 'nobody', 'Yes', 'dear', 'coconuts', 'sworn', 'eet', 'hoo', 'types', 'sing', 'Hyy', 'Aaah', 'Schools', 'haste', 'wrong', 'rest', 'cross', '6', 'ponds', 'a', 'slash', 'swallow', 'migrate', 'direction', 'strategy', 'how', 'ptoo', '...', 'Chop', 'dull', 'But', 'soft', 'kills', 'Hoa', 'Four', 'cereals', 'therefore', 'huge', 'biters', '18', 'anarcho-syndicalist', 'walking', 'lot', 'cheesy', 'ooh', 'executive', 'Quite', 'Y', 'thou', 'Said', 'Pull', 'bicker', 'once', '[', 'legs', 'PARTY', 'expect', 'lonely', '--', 'cadeau', 'Honestly', 'someone', 'sample', 'Good', 'bang', 'expensive', 'England', 'heard', 'lair', 'automatically', 'worse', 'howl', 'scholar', 'approaching', 'point', 'That', 'Table', 'Bring', 'better', 'history', 'Arimathea', 'false', 'discovers', 'put', 'lies', 'She', 'suspenseful', 'Forward', 'Keep', 'temptress', 'commands', \"'old\", \"'cause\", 'sister', 'mumble', 'flights', '15', 'regulations', 'tackle', 'outside', 'Throw', 'accomplished', 'convinced', 'Nothing', 'knees-bent', 'haw', 'Apples', 'castle', 'derives', 'um', 'sweet', 'somewhere', 'lie', 'power', 'shalt', 'trade', \"'Man\", 'clank', 'Lord', 'aaaaaah', 'but', 'Aramaic', 'may', 'girl', 'Lake', 'Cornwall', 'them', 'dead', 'de', 'Ulk', 'strand', 'lobbed', 'English', 'second', 'Let', 'Mercea', 'individually', 'moment', 'PERSON', 'Thpppppt', 'watch', 'song', 'Tim', 'having', 'Twenty-one', 'heroic', 'Thou', 'sign', 'dark', 'chosen', 'Come', 'scales', 'raped', 'Even', 'looks', 'lads', 'soon', 'mangled', 'blessing', 'decision', 'guest', 'daughter', 'Packing', 'awaaay', 'Supreme', 'Iesu', 'enjoying', 'Ives', 'tie', 'wield', 'understand', 'Will', 'Over', 'into', '.', 'note', 'Does', 'my', 'winter', 'where', 'his', 'Try', 'foul', 'used', 'pure', 'internal', 'orangutans', 'rocks', 'gained', \"C'est\", 'SECOND', 'Aauuuves', 'Shrubberies', 'They', 'vital', 'tit', 'Bristol', 'anyone', 'Fiends', 'GIRLS', 'Agh', 'ALL', 'refuse', 'time', 'around', 'thirty-seven', 'passing', 'Badon', 'work', 'would', 'intermission', 'want', 'up', 'Patsy', 'Peril', 'now', 'bring', 'going', 'ours', 'see', 'zoosh', 'end', 'BLACK', 'honored', 'basic', 'else', 'ignore', 'wart', 'lucky', 'pissing', 'cry', 'utterly', 'aunties', 'carrying', 'suppose', \"'til\", 'say', 'arms', 'verses', 'night', 'quite', 'ill.', 'no', 'spake', \"'Here\", 'workers', 'gouged', 'ANIMATOR', 'makes', 'Castle', 'Order', 'bleed', 'quests', 'bird', 'call', 'problem', 'lose', 'tiny-brained', \"'m\", 'remembered', 'worry', 'for', 'stops', 'liege', '21', 'varletesses', 'blondes', 'turned', 'laurels', 'burn', 'VOICE', 'took', 'jump', 'approacheth', 'clop', 'kind', 'Silence', 'spoken', 'dungeon', 'glory', \"'d\", 'WOMAN', 'unplugged', 'Attila', 'Heee', 'Mmm', 'language', 'taunting', 'pray', 'Not', 'frozen', 'grin', 'happy', 'so', 'himself', 'avenged', 'Two', 'Tell', 'thank', 'Just', 'martin', 'taken', 'Chapter', 'U', 'biscuits', 'cave', 'left', 'shrubber', 'Summer', 'Oooh', 'Excuse', 'forty-three', 'hee', 'Bravely', 'Bors', 'sponge', 'This', 'Of', 'here', 'twenty', 'CROWD', 'minstrels', 'wicked', 'meeting', 'unclog', 'sent', \"d'you\", 'Remove', 'task', 'goes', 'aaugh', 'why', 'might', 'less', 'meant', 'By', 'France', 'bowels', 'dramatic', 'cop', 'Since', 'running', 'footwork', 'pulp', 'using', 'guiding', 'getting', 'round', 'mine', 'floats', 'twong', 'It', 'wings', 'routines', 'confuse', 'forth', 'Uhh', 'Hiyaah', 'telling', 'scribble', 'Mud', 'Thpppt', 'found', 'nose', 'couple', 'carp', 'if', 'heads', 'build', 'e', 'BRIDE', 'rewr', 'offensive', 'eis', 'nor', 'shrubbery', 'again', 'named', 'Wayy', 'returns', 'anchovies', 'most', 'Anarcho-syndicalism', 'in', 'whop', 'bones', 'clang', 'grovel', 'bathing', 'wise', 'Joseph', 'Robin', 'frighten', 'indeed', 'design', 'wonderful', 'Huyah', 'Court', 'shut', 'bet', 'go', 'ROGER', 'she', 'force', 'the-not-quite-so-brave-as-Sir-Lancelot', \"'ni\", 'magne', 'whether', 'marry', 'men', 'Really', 'bold', 'Waa', 'crying', 'tinder', 'lad', 'fell', 'uh', 'stand', 'soiled', 'harmless', 'raised', 'stay', 'Sir', \"'\", 'twin', 'death', 'doors', 'Knight', 'Nay', 'collective', 'sire', '17', 'wounding', 'beyond', 'these', 'back', 'chops', 'first', 'impeccable', 'Be', \"'sorry\", 'killer', 'interested', 'keepers', 'oral', 'pass', '8', 'sawwwww', 'DIRECTOR', 'removed', 'sword', 'one', \"'ll\", 'Black', 'dressing', ';', 'bum', 'third', 'Then', 'HEADS', 'behaviour', 'class', 'Bones', 'lady', 'employed', 'domine', 'allowed', 'daring', 'of', 'Um', 'Nu', 'FRENCH', 'hell', 'BROTHER', 'chu', 'reads', 'PRINCESS', 'welcome', 'year', 'food', 'special', 'King', 'GUEST', 'weather', 'excepting', '23', 'art', 'What', 'anywhere', 'are', 'grenade', 'blood', 'Explain', 'sheep', 'quick', 'main', 'built', 'marrying', 'feel', 'behind', 'thanks', 'be', 'know', 'Loimbard', 'too', 'enchanter', 'guarded', 'Behold', 'compared', 'nine', 'told', 'Farewell', 'brought', 'creep', 'beautiful', 'always', 's', 'four', 'upon', 'Aaauugh', 'doubt', 'looney', 'done', 'life', 'try', 'handsome', 'sacred', 'search', 'whispering', 'down', 'banana-shaped', 'water', 'haaa', 'tiny', 'ehh', 'farcical', 'terrible', 'creeper', 'five', 'outdoors', 'Monsieur', 'Well', 'heh', 'Blue', 'CRONE', 'suggesting', 'room', 'him', 'As', 'Dingo', 'listen', 'horrendous', 'Christ', 'exploiting', 'dangerous', 'knights', 'dona', 'naughty', 'died', 'liar', 'dynamite', 'near', 'finds', 'off', 'properly', 'Providence', 'gravy', 'alight', 'knock', 'Huh', 'influential', 'affairs', 'arm', 'stayed', 'rather', 'an', 'bastard', 'has', 'hiyaah', 'Olfin', 'fine', 'grail', 'should', 'bridges', 'Gallahad', 'bringing', 'valleys', 'able', 'very', 'AMAZING', '5', 'cope', 'horn', 'Hey', 'gone', 'was', 'DINGO', 'get', 'animator', 'Aaaugh', 'mercy', 'settles', 'True', 'simple', 'fought', 'line', 'Defeat', \"'Aauuuuugh\", 'In', 'forward', 'Go', 'CUSTOMER', 'mayhem', 'north', 'beside', 'absolutely', 'crossed', 'All', 'nice', 'Aauuugh', 'aptly', 'On', 'asks', 'KNIGHTS', 'worried', 'singing', 'lunged', 'Spring', 'wherein', 'occasion', 'saying', 'word', 'Rheged', 'hospital', 'woman', 'became', 'such', 'excuse', '#', 'CONCORDE', 'higher', 'Until', 'Put', 'leave', 'Hiyah', 'bits', 'teeth', 'friend', 'conclusion', 'HERBERT', 'married', 'Are', 'bows', 'old', 'sovereign', 'thump', 'major', 'by', 'SENTRY', 'starling', 'An', 'Launcelot', 'SCENE', 'silly', 'Cut', 'nice-a', 'uuggggggh', 'n', 'glad', 'wishes', 'CARTOON', 'Uh', 'until', 'noise', 'yes', 'to', 'Exactly', 'traveller', 'Jesus', 'pen', 'pig', 'eccentric'}\n"
     ]
    }
   ],
   "source": [
    "## tokenize both words and sentences of the first scene of Monty Python's Holy Grail.\n",
    "# Import necessary modules\n",
    "from nltk.tokenize import sent_tokenize\n",
    "from nltk.tokenize import word_tokenize\n",
    "import re\n",
    "\n",
    "file = open(\"../datasets/monty-python/monty-python-scene-1.txt\", \"r\")\n",
    "scene_one = file.read()\n",
    "file.close()\n",
    "\n",
    "# Split scene_one into sentences: sentences\n",
    "sentences = sent_tokenize(scene_one)\n",
    "\n",
    "# Use word_tokenize to tokenize the fourth sentence: tokenized_sent\n",
    "tokenized_sent = word_tokenize(sentences[3])\n",
    "\n",
    "# Make a set of unique tokens in the entire scene: unique_tokens\n",
    "unique_tokens = set(word_tokenize(scene_one))\n",
    "\n",
    "# Print the unique tokens result\n",
    "print(unique_tokens)\n"
   ]
  },
  {
   "cell_type": "code",
   "execution_count": 5,
   "metadata": {},
   "outputs": [
    {
     "name": "stdout",
     "output_type": "stream",
     "text": [
      "580 588\n"
     ]
    }
   ],
   "source": [
    "# Search for the first occurrence of \"coconuts\" in scene_one: match\n",
    "match = re.search(\"coconuts\", scene_one)\n",
    "\n",
    "# Print the start and end indexes of match\n",
    "print(match.start(), match.end())"
   ]
  },
  {
   "cell_type": "code",
   "execution_count": 8,
   "metadata": {},
   "outputs": [
    {
     "name": "stdout",
     "output_type": "stream",
     "text": [
      "<re.Match object; span=(9, 32), match='[wind] [clop clop clop]'>\n"
     ]
    }
   ],
   "source": [
    "# Write a regular expression to search for anything in square brackets: pattern1\n",
    "pattern1 = r\"\\[.*\\]\"\n",
    "\n",
    "# Use re.search to find the first text in square brackets\n",
    "print(re.search(pattern1, scene_one))"
   ]
  },
  {
   "cell_type": "code",
   "execution_count": 10,
   "metadata": {},
   "outputs": [
    {
     "name": "stdout",
     "output_type": "stream",
     "text": [
      "<re.Match object; span=(0, 7), match='ARTHUR:'>\n"
     ]
    }
   ],
   "source": [
    "# Find the script notation at the beginning of the fourth sentence and print it\n",
    "pattern2 = r\"[\\w\\s]+:\"\n",
    "print(re.match(pattern2, sentences[3]))"
   ]
  }
 ],
 "metadata": {
  "kernelspec": {
   "display_name": "Python 3",
   "language": "python",
   "name": "python3"
  },
  "language_info": {
   "codemirror_mode": {
    "name": "ipython",
    "version": 3
   },
   "file_extension": ".py",
   "mimetype": "text/x-python",
   "name": "python",
   "nbconvert_exporter": "python",
   "pygments_lexer": "ipython3",
   "version": "3.9.6"
  }
 },
 "nbformat": 4,
 "nbformat_minor": 2
}
